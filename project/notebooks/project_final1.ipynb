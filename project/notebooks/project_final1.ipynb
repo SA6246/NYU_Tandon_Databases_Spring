{
  "cells": [
    {
      "cell_type": "markdown",
      "metadata": {
        "id": "view-in-github",
        "colab_type": "text"
      },
      "source": [
        "<a href=\"https://colab.research.google.com/github/SA6246/NYU_Tandon_Databases_Spring/blob/main/project/notebooks/project_final1.ipynb\" target=\"_parent\"><img src=\"https://colab.research.google.com/assets/colab-badge.svg\" alt=\"Open In Colab\"/></a>"
      ]
    },
    {
      "cell_type": "code",
      "source": [
        "# Install dependencies\n",
        "!wget https://raw.githubusercontent.com/SA6246/NYU_Tandon_Databases_Spring/main/project/sources/createdb.sql createdb.sql > /dev/null 2>&1"
      ],
      "metadata": {
        "id": "r8sZKxtrTOYr"
      },
      "execution_count": 31,
      "outputs": []
    },
    {
      "cell_type": "code",
      "source": [
        "# Install dependencies\n",
        "!pip install mysql-connector-python > /dev/null 2>&1"
      ],
      "metadata": {
        "id": "Yyfs4JsXTOWX"
      },
      "execution_count": 32,
      "outputs": []
    },
    {
      "cell_type": "code",
      "source": [
        "# Install dependencies\n",
        "!apt-get -y install mysql-server > /dev/null 2>&1"
      ],
      "metadata": {
        "id": "HLK0J1sjTORZ"
      },
      "execution_count": 33,
      "outputs": []
    },
    {
      "cell_type": "code",
      "source": [
        "# Start SQL Server\n",
        "!service mysql start > /dev/null 2>&1"
      ],
      "metadata": {
        "id": "95t-a-W4TOPC"
      },
      "execution_count": 34,
      "outputs": []
    },
    {
      "cell_type": "code",
      "source": [
        "# Create our new Database and create a root account.\n",
        "!mysql -u root -proot -e \"ALTER USER 'root'@'localhost' IDENTIFIED BY 'root'; source createdb.sql;\" > /dev/null 2>&1"
      ],
      "metadata": {
        "id": "AdjBMFGyTOJ1"
      },
      "execution_count": 35,
      "outputs": []
    },
    {
      "cell_type": "code",
      "source": [
        "# Modify Database ROOT user access\n",
        "!mysql -e \"ALTER USER 'root'@'localhost' IDENTIFIED WITH 'mysql_native_password' BY 'root';FLUSH PRIVILEGES;\" > /dev/null 2>&1"
      ],
      "metadata": {
        "id": "Y4xvWXFjTOHf"
      },
      "execution_count": 36,
      "outputs": []
    },
    {
      "cell_type": "code",
      "source": [
        "# Define the HTML template as a string\n",
        "# Used a Generic Bootstrap Template\n",
        "\n",
        "template = \"\"\"\n",
        "        <!DOCTYPE html>\n",
        "        <html lang=\"en\">\n",
        "        <head>\n",
        "            <meta charset=\"UTF-8\">\n",
        "            <meta name=\"viewport\" content=\"width=device-width, initial-scale=1.0\">\n",
        "            <title>SQL Query</title>\n",
        "            <!-- Bootstrap CSS -->\n",
        "            <link href=\"https://stackpath.bootstrapcdn.com/bootstrap/4.5.2/css/bootstrap.min.css\" rel=\"stylesheet\">\n",
        "            <style>\n",
        "                body {\n",
        "                    padding: 50px;\n",
        "                }\n",
        "                .container {\n",
        "                    max-width: 600px;\n",
        "                    margin: auto;\n",
        "                }\n",
        "            </style>\n",
        "        </head>\n",
        "        <body>\n",
        "            <div class=\"container\">\n",
        "                <!-- Header -->\n",
        "                <h1 class=\"mb-4\">Enter Your SQL Query</h1>\n",
        "                <!-- Instruction -->\n",
        "                <p class=\"mb-4\">Please enter your SQL query below:</p>\n",
        "                <!-- Input field for SQL query -->\n",
        "                <form action=\"/execute_query\" method=\"post\">\n",
        "                    <div class=\"form-group\">\n",
        "                        <label for=\"sqlQuery\">SQL Query:</label>\n",
        "                        <textarea class=\"form-control\" id=\"sqlQuery\" name=\"sqlQuery\" rows=\"4\"></textarea>\n",
        "                    </div>\n",
        "                    <!-- Button to submit the form -->\n",
        "                    <button type=\"submit\" class=\"btn btn-primary mt-3\">Execute Query</button>\n",
        "                </form>\n",
        "\n",
        "                <!-- Output Section -->\n",
        "                <!-- Section to display the output of the query -->\n",
        "                <div class=\"mt-5\">\n",
        "                    <h2>Output</h2>\n",
        "                    <!-- Apply CSS styles for resizing and styling the output -->\n",
        "                    <div id=\"output\" class=\"border p-3\" style=\"max-width: fit-content; max-height: 400px; overflow: auto;\">{{ output|safe }}</div>\n",
        "                </div>\n",
        "                <!-- Operation info Section -->\n",
        "                <div class=\"mt-5\">\n",
        "                    <h2>Operation Info</h2>\n",
        "                    <p>{{ operation_info|safe }}</p>\n",
        "                </div>\n",
        "\n",
        "            <!-- Bootstrap JS and dependencies -->\n",
        "            <script src=\"https://code.jquery.com/jquery-3.5.1.slim.min.js\"></script>\n",
        "            <script src=\"https://cdn.jsdelivr.net/npm/@popperjs/core@2.5.4/dist/umd/popper.min.js\"></script>\n",
        "            <script src=\"https://stackpath.bootstrapcdn.com/bootstrap/4.5.2/js/bootstrap.min.js\"></script>\n",
        "        </body>\n",
        "        </html>\n",
        "\"\"\""
      ],
      "metadata": {
        "id": "uuGXLgTOQAs_"
      },
      "execution_count": 37,
      "outputs": []
    },
    {
      "cell_type": "code",
      "source": [
        "# Expose our notebook endpoint\n",
        "from google.colab.output import eval_js\n",
        "print(eval_js(\"google.colab.kernel.proxyPort(5000)\"))"
      ],
      "metadata": {
        "colab": {
          "base_uri": "https://localhost:8080/",
          "height": 34
        },
        "id": "eEWk9AgHUq9b",
        "outputId": "5da2a5dd-4797-4c18-bdae-de60641c8be4"
      },
      "execution_count": 38,
      "outputs": [
        {
          "output_type": "stream",
          "name": "stdout",
          "text": [
            "https://mnrz3h16gpa-496ff2e9c6d22116-5000-colab.googleusercontent.com/\n"
          ]
        }
      ]
    },
    {
      "cell_type": "code",
      "source": [
        "from flask import Flask, render_template_string, request\n",
        "import pandas as pd\n",
        "import mysql.connector\n",
        "\n",
        "app = Flask(__name__)\n",
        "\n",
        "@app.route(\"/\")\n",
        "def home():\n",
        "    return render_template_string(template)\n",
        "\n",
        "@app.route(\"/execute_query\", methods=[\"POST\"])\n",
        "def execute_query():\n",
        "    # Get the SQL query from the form data\n",
        "    query = request.form.get(\"sqlQuery\")\n",
        "\n",
        "    # Pass out command to our query function\n",
        "    table_html, operation_info = execute_sql_and_display(query)\n",
        "\n",
        "    # Render the template with the results\n",
        "    return render_template_string(template,\n",
        "                                  output=table_html,\n",
        "                                  operation_info=operation_info)\n",
        "\n",
        "def execute_sql_and_display(command):\n",
        "\n",
        "    # Create a connection to the MySQL server\n",
        "    conn = mysql.connector.connect(user='root',\n",
        "                                   password='root',\n",
        "                                   host='localhost')\n",
        "\n",
        "    # Create a cursor to interact with the MySQL server\n",
        "    cursor = conn.cursor()\n",
        "\n",
        "    # Execute the SQL command\n",
        "    cursor.execute(command)\n",
        "\n",
        "    # Check operation type\n",
        "    operation_info = \"No specific operation detected\"\n",
        "    if command.strip().lower().startswith(\"insert\"):\n",
        "        operation_info = \"INSERT operation detected\"\n",
        "    elif command.strip().lower().startswith(\"update\"):\n",
        "        operation_info = \"UPDATE operation detected\"\n",
        "    elif command.strip().lower().startswith(\"delete\"):\n",
        "        operation_info = \"DELETE operation detected\"\n",
        "    else:\n",
        "        operation_info = \"READ operation detected\"\n",
        "\n",
        "    # If it's a non-SELECT operation, return operation_info only.\n",
        "    if command.strip().lower().startswith((\"insert\", \"update\", \"delete\")):\n",
        "        return None, operation_info\n",
        "\n",
        "    # Fetch all the results\n",
        "    records = cursor.fetchall()\n",
        "\n",
        "    # Create a DataFrame from the records\n",
        "    df = pd.DataFrame(records)\n",
        "\n",
        "    # Get column names\n",
        "    column_names = [col[0] for col in cursor.description]\n",
        "\n",
        "    # Set column names to the DataFrame\n",
        "    df.columns = column_names\n",
        "\n",
        "    # Convert DataFrame to HTML table with column names\n",
        "    table_html = df.to_html(index=False, header=True)\n",
        "\n",
        "    return table_html, operation_info\n",
        "\n",
        "if __name__ == \"__main__\":\n",
        "    app.run()\n"
      ],
      "metadata": {
        "colab": {
          "base_uri": "https://localhost:8080/"
        },
        "id": "-iUhfdtBejHX",
        "outputId": "30ebec06-06b3-41b1-c737-4b7fa1ed3fc3"
      },
      "execution_count": null,
      "outputs": [
        {
          "output_type": "stream",
          "name": "stdout",
          "text": [
            " * Serving Flask app '__main__'\n",
            " * Debug mode: off\n"
          ]
        },
        {
          "output_type": "stream",
          "name": "stderr",
          "text": [
            "INFO:werkzeug:\u001b[31m\u001b[1mWARNING: This is a development server. Do not use it in a production deployment. Use a production WSGI server instead.\u001b[0m\n",
            " * Running on http://127.0.0.1:5000\n",
            "INFO:werkzeug:\u001b[33mPress CTRL+C to quit\u001b[0m\n",
            "INFO:werkzeug:127.0.0.1 - - [30/Apr/2024 19:47:58] \"GET / HTTP/1.1\" 200 -\n",
            "INFO:werkzeug:127.0.0.1 - - [30/Apr/2024 19:47:59] \"\u001b[33mGET /favicon.ico HTTP/1.1\u001b[0m\" 404 -\n",
            "INFO:werkzeug:127.0.0.1 - - [30/Apr/2024 19:48:11] \"GET / HTTP/1.1\" 200 -\n",
            "INFO:werkzeug:127.0.0.1 - - [30/Apr/2024 19:48:11] \"\u001b[33mGET /favicon.ico HTTP/1.1\u001b[0m\" 404 -\n"
          ]
        }
      ]
    },
    {
      "cell_type": "code",
      "source": [],
      "metadata": {
        "id": "qPKHnnTrjFnl"
      },
      "execution_count": null,
      "outputs": []
    }
  ],
  "metadata": {
    "colab": {
      "provenance": [],
      "authorship_tag": "ABX9TyM6sQYysn3U0Ga/3Nnj487C",
      "include_colab_link": true
    },
    "kernelspec": {
      "display_name": "Python 3",
      "name": "python3"
    },
    "language_info": {
      "name": "python"
    }
  },
  "nbformat": 4,
  "nbformat_minor": 0
}