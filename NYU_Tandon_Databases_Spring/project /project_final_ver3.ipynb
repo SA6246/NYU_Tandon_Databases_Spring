{
  "cells": [
    {
      "cell_type": "markdown",
      "metadata": {
        "id": "view-in-github",
        "colab_type": "text"
      },
      "source": [
        "<a href=\"https://colab.research.google.com/github/SA6246/NYU_Tandon_Databases_Spring/blob/main/NYU_Tandon_Databases_Spring/project%20/project_final_ver3.ipynb\" target=\"_parent\"><img src=\"https://colab.research.google.com/assets/colab-badge.svg\" alt=\"Open In Colab\"/></a>"
      ]
    },
    {
      "cell_type": "code",
      "source": [
        "# Install dependencies\n",
        "!wget https://raw.githubusercontent.com/SA6246/NYU_Tandon_Databases_Spring/main/project/sources/createdb.sql createdb.sql > /dev/null 2>&1"
      ],
      "metadata": {
        "id": "r8sZKxtrTOYr"
      },
      "execution_count": null,
      "outputs": []
    },
    {
      "cell_type": "code",
      "source": [
        "!wget https://raw.githubusercontent.com/SA6246/NYU_Tandon_Databases_Spring/main/project/sources/index.html index.html > /dev/null 2>&1"
      ],
      "metadata": {
        "id": "I4RLashvltXs"
      },
      "execution_count": null,
      "outputs": []
    },
    {
      "cell_type": "code",
      "source": [
        "# Install dependencies\n",
        "!pip install mysql-connector-python > /dev/null 2>&1"
      ],
      "metadata": {
        "id": "Yyfs4JsXTOWX"
      },
      "execution_count": null,
      "outputs": []
    },
    {
      "cell_type": "code",
      "source": [
        "# Install dependencies\n",
        "!apt-get -y install mysql-server > /dev/null 2>&1"
      ],
      "metadata": {
        "id": "HLK0J1sjTORZ"
      },
      "execution_count": null,
      "outputs": []
    },
    {
      "cell_type": "code",
      "source": [
        "# Start SQL Server\n",
        "!service mysql start > /dev/null 2>&1"
      ],
      "metadata": {
        "id": "95t-a-W4TOPC"
      },
      "execution_count": null,
      "outputs": []
    },
    {
      "cell_type": "code",
      "source": [
        "# Create our new Database and create a root account.\n",
        "!mysql -u root -proot -e \"ALTER USER 'root'@'localhost' IDENTIFIED BY 'root'; source createdb.sql;\" > /dev/null 2>&1"
      ],
      "metadata": {
        "id": "AdjBMFGyTOJ1"
      },
      "execution_count": null,
      "outputs": []
    },
    {
      "cell_type": "code",
      "source": [
        "# Modify Database ROOT user access\n",
        "!mysql -e \"ALTER USER 'root'@'localhost' IDENTIFIED WITH 'mysql_native_password' BY 'root';FLUSH PRIVILEGES;\" > /dev/null 2>&1"
      ],
      "metadata": {
        "id": "Y4xvWXFjTOHf"
      },
      "execution_count": null,
      "outputs": []
    },
    {
      "cell_type": "code",
      "source": [
        "# Define the HTML template as a string\n",
        "# Used a Generic Bootstrap Template\n",
        "\n",
        "file_path = \"/content/index.html\"  # Update with the actual file name\n",
        "\n",
        "with open(file_path, \"r\") as file:\n",
        "    template = file.read()"
      ],
      "metadata": {
        "id": "uuGXLgTOQAs_"
      },
      "execution_count": null,
      "outputs": []
    },
    {
      "cell_type": "code",
      "source": [
        "# Expose our notebook endpoint\n",
        "from google.colab.output import eval_js\n",
        "print(eval_js(\"google.colab.kernel.proxyPort(5000)\"))"
      ],
      "metadata": {
        "id": "eEWk9AgHUq9b"
      },
      "execution_count": null,
      "outputs": []
    },
    {
      "cell_type": "code",
      "source": [
        "# @title\n",
        "from flask import Flask, render_template_string, request\n",
        "import pandas as pd\n",
        "import mysql.connector\n",
        "\n",
        "app = Flask(__name__)\n",
        "\n",
        "@app.route(\"/\")\n",
        "def home():\n",
        "    return render_template_string(template)\n",
        "\n",
        "@app.route(\"/execute_query\", methods=[\"POST\"])\n",
        "def execute_query():\n",
        "    # Get the SQL query from the form data\n",
        "    query = request.form.get(\"sqlQuery\")\n",
        "\n",
        "    # Pass out command to our query function\n",
        "    table_html, operation_info = execute_sql_and_display(query)\n",
        "\n",
        "    # Render the template with the results\n",
        "    return render_template_string(template,\n",
        "                                  output=table_html,\n",
        "                                  operation_info=operation_info)\n",
        "\n",
        "def execute_sql_and_display(command):\n",
        "\n",
        "    # Create a connection to the MySQL server\n",
        "    conn = mysql.connector.connect(user='root',\n",
        "                                   password='root',\n",
        "                                   host='localhost')\n",
        "\n",
        "    # Create a cursor to interact with the MySQL server\n",
        "    cursor = conn.cursor()\n",
        "\n",
        "    # Execute the SQL command\n",
        "    cursor.execute(command)\n",
        "\n",
        "    # Check operation type\n",
        "    operation_info = \"No specific operation detected\"\n",
        "    if command.strip().lower().startswith(\"insert\"):\n",
        "        operation_info = \"INSERT operation detected\"\n",
        "    elif command.strip().lower().startswith(\"update\"):\n",
        "        operation_info = \"UPDATE operation detected\"\n",
        "    elif command.strip().lower().startswith(\"delete\"):\n",
        "        operation_info = \"DELETE operation detected\"\n",
        "    else:\n",
        "        operation_info = \"READ operation detected\"\n",
        "\n",
        "    # If it's a non-SELECT operation, return operation_info only.\n",
        "    if command.strip().lower().startswith((\"insert\", \"update\", \"delete\")):\n",
        "        return None, operation_info\n",
        "\n",
        "    # Fetch all the results\n",
        "    records = cursor.fetchall()\n",
        "\n",
        "    # Create a DataFrame from the records\n",
        "    df = pd.DataFrame(records)\n",
        "\n",
        "    # Get column names\n",
        "    column_names = [col[0] for col in cursor.description]\n",
        "\n",
        "    # Set column names to the DataFrame\n",
        "    df.columns = column_names\n",
        "\n",
        "    # Convert DataFrame to HTML table with column names\n",
        "    table_html = df.to_html(index=False, header=True)\n",
        "\n",
        "    return table_html, operation_info\n",
        "\n",
        "if __name__ == \"__main__\":\n",
        "    app.run()\n"
      ],
      "metadata": {
        "id": "-iUhfdtBejHX"
      },
      "execution_count": null,
      "outputs": []
    }
  ],
  "metadata": {
    "colab": {
      "provenance": [],
      "authorship_tag": "ABX9TyMyyPGb8EXEeExUzawKKW92",
      "include_colab_link": true
    },
    "kernelspec": {
      "display_name": "Python 3",
      "name": "python3"
    },
    "language_info": {
      "name": "python"
    }
  },
  "nbformat": 4,
  "nbformat_minor": 0
}